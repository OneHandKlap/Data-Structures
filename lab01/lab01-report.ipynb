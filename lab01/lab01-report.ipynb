{
 "cells": [
  {
   "cell_type": "markdown",
   "metadata": {},
   "source": [
    "## CPS 305 Fall 2019\n",
    "## Lab 01 Report\n",
    "## P. Adam Aboud, Std ID 500883647\n",
    "\n",
    "10 September 2019\n",
    "\n",
    "#Introduction and Overal Comments\n",
    "\n",
    "This is my submission for lab 1. I found the exercise itself interesting, albeit a little unclear. The instructions for how exactly the functions were supposed to perform could have been better elucidated. Moreover the expectation for being able to properly use and format Jupyter into this report was a little much for the 24hr period.\n"
   ]
  },
  {
   "cell_type": "markdown",
   "metadata": {},
   "source": [
    "Solution for Exercise 1"
   ]
  },
  {
   "cell_type": "code",
   "execution_count": 23,
   "metadata": {},
   "outputs": [
    {
     "name": "stdout",
     "output_type": "stream",
     "text": [
      "String\t\t\t\t\t\tScore\n",
      "mzzispit pxeffgxlivpilrqedtk  \t\t\t 7\n",
      "metispit pxeffgxlivpilrqedtk  \t\t\t 14\n",
      "methinit pxeffgxlivpilrqedtk  \t\t\t 25\n",
      "methinks it ffgxlivpilrqedtk  \t\t\t 42\n",
      "methinks it ffgxlivpilrqedtk  \t\t\t 42\n",
      "methinks it is llivpilrqedtk  \t\t\t 57\n",
      "methinks it is likepilrqedtk  \t\t\t 67\n",
      "methinks it is like a wqedtk  \t\t\t 82\n",
      "methinks it is like a wqedtk  \t\t\t 82\n"
     ]
    },
    {
     "data": {
      "image/png": "[encoded data removed]",
      "text/plain": [
       "<Figure size 432x288 with 1 Axes>"
      ]
     },
     "metadata": {
      "needs_background": "light"
     },
     "output_type": "display_data"
    }
   ],
   "source": [
    "from mySolution import monkeyTypist\n",
    "monkeyTypist()"
   ]
  },
  {
   "cell_type": "markdown",
   "metadata": {},
   "source": [
    "This function simulates monkeys (or computer science students) randomly typing away, and graphically represents how close they are getting to the target Shakespearean phrase 'Methinks it is like a weasel.'"
   ]
  },
  {
   "cell_type": "code",
   "execution_count": null,
   "metadata": {},
   "outputs": [],
   "source": []
  }
 ],
 "metadata": {
  "kernelspec": {
   "display_name": "Python 3",
   "language": "python",
   "name": "python3"
  },
  "language_info": {
   "codemirror_mode": {
    "name": "ipython",
    "version": 3
   },
   "file_extension": ".py",
   "mimetype": "text/x-python",
   "name": "python",
   "nbconvert_exporter": "python",
   "pygments_lexer": "ipython3",
   "version": "3.7.3"
  }
 },
 "nbformat": 4,
 "nbformat_minor": 2
}
