{
 "cells": [
  {
   "cell_type": "markdown",
   "metadata": {},
   "source": [
    "## CPS 305 Fall 2019\n",
    "## Lab 01 Report\n",
    "## P. Adam Aboud, Std ID 500883647\n",
    "\n",
    "10 September 2019\n",
    "\n",
    "#Introduction and Overal Comments\n",
    "\n",
    "This is my submission for lab 1. I found the exercise itself interesting, albeit a little unclear. The instructions for how exactly the functions were supposed to perform could have been better elucidated. Moreover the expectation for being able to properly use and format Jupyter into this report was a little much for the 24hr period.\n"
   ]
  },
  {
   "cell_type": "code",
   "execution_count": null,
   "metadata": {},
   "outputs": [],
   "source": []
  },
  {
   "cell_type": "markdown",
   "metadata": {},
   "source": [
    "Solution for Exercise 1"
   ]
  },
  {
   "cell_type": "code",
   "execution_count": null,
   "metadata": {},
   "outputs": [],
   "source": [
    "from mySolution.__ini__.py import monkeyTypist\n",
    "monkeyTypist()"
   ]
  }
 ],
 "metadata": {
  "kernelspec": {
   "display_name": "Python 3",
   "language": "python",
   "name": "python3"
  },
  "language_info": {
   "codemirror_mode": {
    "name": "ipython",
    "version": 3
   },
   "file_extension": ".py",
   "mimetype": "text/x-python",
   "name": "python",
   "nbconvert_exporter": "python",
   "pygments_lexer": "ipython3",
   "version": "3.7.4"
  }
 },
 "nbformat": 4,
 "nbformat_minor": 2
}
