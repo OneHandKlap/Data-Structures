{
 "cells": [
  {
   "cell_type": "markdown",
   "metadata": {},
   "source": [
    "# Lab 06 - Quick Sort Efficiency Comparison"
   ]
  },
  {
   "cell_type": "code",
   "execution_count": 4,
   "metadata": {},
   "outputs": [
    {
     "data": {
      "image/png": "[encoded data removed]",
      "text/plain": [
       "<Figure size 432x288 with 1 Axes>"
      ]
     },
     "metadata": {
      "needs_background": "light"
     },
     "output_type": "display_data"
    }
   ],
   "source": [
    "import statistics\n",
    "import timeit\n",
    "import random\n",
    "import matplotlib.pyplot as plt\n",
    "\n",
    "def quickSort(alist,mo3=False):\n",
    "   quickSortHelper(alist,0,len(alist)-1)\n",
    "\n",
    "def medianOf(first,middle,last):\n",
    "    if first>=middle and first>=last:\n",
    "        if middle>=last:\n",
    "            return middle\n",
    "        else:\n",
    "            return last\n",
    "    if middle>=first and middle >=last:\n",
    "        if first>=last:\n",
    "            return first\n",
    "        else:\n",
    "            return last\n",
    "    if last>=first and last>=middle:\n",
    "        if first>=middle:\n",
    "            return first\n",
    "        else:\n",
    "            return middle\n",
    "\n",
    "\n",
    "\n",
    "def quickSortHelper(alist,first,last,mo3=False):\n",
    "    \n",
    "    if first<last:\n",
    "\n",
    "        splitpoint = partition(alist,first,last)\n",
    "        quickSortHelper(alist,first,splitpoint-1,mo3)\n",
    "        quickSortHelper(alist,splitpoint+1,last,mo3)\n",
    "\n",
    "def partition(alist,first,last,mo3=False):\n",
    "    pivotvalue=alist[first]\n",
    "    if mo3:\n",
    "        #pivotvalue = int(statistics.median([alist[first],alist[last],alist[((last-first)/2)+first]]))\n",
    "        pivotvalue= medianOf([alist[first],alist[last],alist[((last-first)/2)+first]])\n",
    "    leftmark = first+1\n",
    "    rightmark = last\n",
    "\n",
    "    done = False\n",
    "    while not done:\n",
    "\n",
    "        while leftmark <= rightmark and alist[leftmark] <= pivotvalue:\n",
    "            leftmark = leftmark + 1\n",
    "\n",
    "        while alist[rightmark] >= pivotvalue and rightmark >= leftmark:\n",
    "            rightmark = rightmark -1\n",
    "\n",
    "        if rightmark < leftmark:\n",
    "            done = True\n",
    "        else:\n",
    "            temp = alist[leftmark]\n",
    "            alist[leftmark] = alist[rightmark]\n",
    "            alist[rightmark] = temp\n",
    "\n",
    "    temp = alist[first]\n",
    "    alist[first] = alist[rightmark]\n",
    "    alist[rightmark] = temp\n",
    "\n",
    "\n",
    "    return rightmark\n",
    "\n",
    "\n",
    "lengths=[x for x in range(0,50000,1000)]\n",
    "quick=[]\n",
    "quick_mo3=[]\n",
    "\n",
    "for length in lengths:\n",
    "    arr=[random.randrange(100) for x in range(length)]\n",
    "    arr2=arr\n",
    "    quickSort_temp=[]\n",
    "    quickSort_mo3_temp=[]\n",
    "    for i in range(3):\n",
    "        quickSort_temp.append((timeit.timeit(\"quickSort(arr)\", setup = \"from __main__ import quickSort,arr\", number = 1)))\n",
    "        quickSort_mo3_temp.append((timeit.timeit(\"quickSort(arr2,True)\", setup = \"from __main__ import quickSort,arr2\", number = 1)))\n",
    "    quick.append(statistics.mean(quickSort_temp))\n",
    "    quick_mo3.append(statistics.mean(quickSort_mo3_temp))\n",
    "    # quick.append((timeit.timeit(\"quickSort(arr)\", setup = \"from __main__ import quickSort,arr\", number = 1)))\n",
    "    # quick_mo3.append((timeit.timeit(\"quickSort(arr,True)\", setup = \"from __main__ import quickSort,arr\", number = 1)))\n",
    "plt.plot(lengths,quick,'ro', label = \"quickSort canon results\")\n",
    "plt.plot(lengths,quick_mo3, 'bo', label = \"quickSort mo3 results\")\n",
    "plt.xlabel(\"Number of Elements\")\n",
    "plt.ylabel(\"Timeit Values\")\n",
    "plt.legend(loc='upper left')\n",
    "plt.show()"
   ]
  },
  {
   "cell_type": "markdown",
   "metadata": {},
   "source": [
    "This experiment sought to determine the respective speeds of a quickSort() function and a modified quickSort_mo3() function. The latter merely incorporating a \"Median of 3\" approach to pivot value assignment. Rather than take the first value of the list as the pivotvalue, the mo3 function finds the median of the first, last and middle value of the starting list and every subsequent unsorted sublist. This experiment sought to show that the speed of both functions are very similar. This was carried out by generating lists of random integers of sizes ranging from 0-50,000. The functions would be timed 3 times, the output values averaged, stored, and compared in a graph. As you can see, the graph shows slight variance in the O(nlogn) times of these two functions. Ultimately, this verifies the hypothesis that, \"Canonic quickSort is as fast as mo3_quickSort when processing large lists of unsorted integers.\""
   ]
  }
 ],
 "metadata": {
  "kernelspec": {
   "display_name": "Python 3",
   "language": "python",
   "name": "python3"
  },
  "language_info": {
   "codemirror_mode": {
    "name": "ipython",
    "version": 3
   },
   "file_extension": ".py",
   "mimetype": "text/x-python",
   "name": "python",
   "nbconvert_exporter": "python",
   "pygments_lexer": "ipython3",
   "version": "3.7.4"
  }
 },
 "nbformat": 4,
 "nbformat_minor": 2
}
