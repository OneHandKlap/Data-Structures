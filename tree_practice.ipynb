{
 "nbformat": 4,
 "nbformat_minor": 2,
 "metadata": {
  "language_info": {
   "name": "python",
   "codemirror_mode": {
    "name": "ipython",
    "version": 3
   },
   "version": "3.7.5"
  },
  "orig_nbformat": 2,
  "file_extension": ".py",
  "mimetype": "text/x-python",
  "name": "python",
  "npconvert_exporter": "python",
  "pygments_lexer": "ipython3",
  "version": 3
 },
 "cells": [
  {
   "cell_type": "markdown",
   "execution_count": null,
   "metadata": {},
   "outputs": [
    {
     "evalue": "Error: Jupyter cannot be started. Error attempting to locate jupyter: python -m jupyter notebook --version is not running",
     "output_type": "error"
    }
   ],
   "source": [
    "Tree - a simple implementation and analysis of traversal and searching"
   ]
  },
  {
   "cell_type": "code",
   "execution_count": 20,
   "metadata": {},
   "outputs": [],
   "source": [
    "class BinaryTree:\n",
    "    def __init__(self, root):\n",
    "        self.key=root\n",
    "        self.left=None\n",
    "        self.right=None\n",
    "\n",
    "    def insertLeft(self,new):\n",
    "        if self.left==None:\n",
    "            self.left = BinaryTree(new)\n",
    "        else:\n",
    "            newLeft=BinaryTree(new)\n",
    "            newLeft.left,self.left=self.left,newLeft\n",
    "    def insertRight(self,new):\n",
    "        if self.right==None:\n",
    "            self.right = BinaryTree(new)\n",
    "        else:\n",
    "            newRight=BinaryTree(new)\n",
    "            newRight.right,self.right=self.right,newRight\n",
    "    def getRight(self):\n",
    "        return self.right\n",
    "    def getLeft(self):\n",
    "        return self.left\n",
    "    def setRoot(self,data):\n",
    "        self.key=data\n",
    "    def getRoot(self):\n",
    "        return self.key\n"
   ]
  },
  {
   "cell_type": "code",
   "execution_count": 21,
   "metadata": {},
   "outputs": [
    {
     "name": "stdout",
     "output_type": "stream",
     "text": "10\nNone\nNone\n"
    }
   ],
   "source": [
    "tree = BinaryTree(10)\n",
    "print(tree.getRoot())\n",
    "print(tree.getLeft())\n",
    "print(tree.getRight())"
   ]
  },
  {
   "cell_type": "code",
   "execution_count": 25,
   "metadata": {},
   "outputs": [
    {
     "name": "stdout",
     "output_type": "stream",
     "text": "<__main__.BinaryTree object at 0x0000025DDDBB35C8>\n12\n<__main__.BinaryTree object at 0x0000025DDDBB36C8>\n14\n"
    }
   ],
   "source": [
    "tree.insertLeft(12)\n",
    "print(tree.getLeft())\n",
    "print(tree.getLeft().getRoot())\n",
    "tree.insertLeft(14)\n",
    "print(tree.getLeft())\n",
    "print(tree.getLeft().getRoot())"
   ]
  },
  {
   "cell_type": "markdown",
   "execution_count": null,
   "metadata": {},
   "outputs": [],
   "source": [
    "As we can see above, standard BinaryTree data structures use root-child relationships to organize data. First we initialize a root with a value of 10, and do not give it any children. We then insert another node or 'child' tree to the left, which is printed with the getLeft() function. The interesting thing to note, is that subsequent insertLeft() calls on the original root push previously existing children in that slot further down the tree.\n",
    "\n",
    "Original:                       Second:                             Third:\n",
    "\n",
    "        10                                 10                               10\n",
    "    None    None                        12      None                    14      None\n",
    "                                    None   None                     12      None\n",
    "                                                                None    None"
   ]
  },
  {
   "cell_type": "markdown",
   "execution_count": null,
   "metadata": {},
   "outputs": [],
   "source": [
    "We can use BinaryTrees to solve some real world problems because their structure allows us to mimic phenomena such as sentences and mathematical expressions.\n",
    "\n",
    "Example:    ((7+3)*(5-2))\n",
    "\n",
    "Tree Form:              \n",
    "                        \n",
    "                        *\n",
    "\n",
    "                    +       -\n",
    "\n",
    "                7       3 5     2\n",
    "The binarytree structure maintains the hierarchical nature of expressions such as these, which will allow us to implement algorithms to solve them."
   ]
  },
  {
   "cell_type": "code",
   "execution_count": 35,
   "metadata": {},
   "outputs": [
    {
     "ename": "SyntaxError",
     "evalue": "invalid syntax (<ipython-input-35-d0b3d538c807>, line 43)",
     "output_type": "error",
     "traceback": [
      "\u001b[1;36m  File \u001b[1;32m\"<ipython-input-35-d0b3d538c807>\"\u001b[1;36m, line \u001b[1;32m43\u001b[0m\n\u001b[1;33m    print(\"                 \"pt.getRoot())\u001b[0m\n\u001b[1;37m                              ^\u001b[0m\n\u001b[1;31mSyntaxError\u001b[0m\u001b[1;31m:\u001b[0m invalid syntax\n"
     ]
    }
   ],
   "source": [
    "\n",
    "class Stack(list):\n",
    "    def push(self, item):\n",
    "        self.append(item)\n",
    "    def isEmpty(self):\n",
    "        return not self\n",
    "    def __pop__():\n",
    "        self.pop(0)\n",
    "\n",
    "def buildParseTree(fpexp):\n",
    "    fplist = fpexp.split()\n",
    "    pStack = Stack()\n",
    "    eTree = BinaryTree('')\n",
    "    pStack.push(eTree)\n",
    "    currentTree = eTree\n",
    "\n",
    "    for i in fplist:\n",
    "        if i == '(':\n",
    "            currentTree.insertLeft('')\n",
    "            pStack.push(currentTree)\n",
    "            currentTree = currentTree.getLeft()\n",
    "\n",
    "        elif i in ['+', '-', '*', '/']:\n",
    "            currentTree.setRoot(i)\n",
    "            currentTree.insertRight('')\n",
    "            pStack.push(currentTree)\n",
    "            currentTree = currentTree.getRight()\n",
    "\n",
    "        elif i == ')':\n",
    "            currentTree = pStack.pop()\n",
    "\n",
    "        elif i not in ['+', '-', '*', '/', ')']:\n",
    "            try:\n",
    "                currentTree.setRoot(int(i))\n",
    "                parent = pStack.pop()\n",
    "                currentTree = parent\n",
    "\n",
    "            except ValueError:\n",
    "                raise ValueError(\"token '{}' is not a valid integer\".format(i))\n",
    "\n",
    "    return eTree\n",
    "\n",
    "pt = buildParseTree(\"( ( 10 + 5 ) * 3 )\")\n",
    "print(\"                 \"+str(pt.getRoot()))\n",
    "print(pt.getLeft().getRoot())\n",
    "print(pt.getRight().getRoot())\n",
    "print(pt.getLeft().getLeft().getRoot())\n",
    "print(pt.getLeft().getRight().getRoot())"
   ]
  },
  {
   "cell_type": "code",
   "execution_count": null,
   "metadata": {},
   "outputs": [],
   "source": []
  }
 ]
}