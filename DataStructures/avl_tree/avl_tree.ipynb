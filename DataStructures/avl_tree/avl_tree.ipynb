{
 "nbformat": 4,
 "nbformat_minor": 2,
 "metadata": {
  "language_info": {
   "name": "python",
   "codemirror_mode": {
    "name": "ipython",
    "version": 3
   },
   "version": "3.7.5"
  },
  "orig_nbformat": 2,
  "file_extension": ".py",
  "mimetype": "text/x-python",
  "name": "python",
  "npconvert_exporter": "python",
  "pygments_lexer": "ipython3",
  "version": 3
 },
 "cells": [
  {
   "cell_type": "markdown",
   "execution_count": null,
   "metadata": {},
   "outputs": [],
   "source": [
    "AVL trees are similar to Binary Search trees however they maintain a balance factor (height(leftSubTree)-height(rightSubTree)), in order to guarantee performance.\n",
    "\n",
    "This is accomplished by:\n",
    "    - updating the balance factor of the parent to each newly added node (must be done recursively all the way up the tree)\n",
    "        -stop conditions: when the updating has reached the root, or when a parent's balance factor returns to 0 (which means that its own parent's balance need not be adjusted)\n",
    "\n"
   ]
  },
  {
   "cell_type": "code",
   "execution_count": 3,
   "metadata": {},
   "outputs": [],
   "source": [
    "from DataStructures.binary_search_tree import BinarySearchTree\n",
    "\n",
    "def place(self, key,currentNode):\n",
    "    if key <currentNode.key:\n",
    "        if currentNode.hasLeft():\n",
    "            self.place(key,val,currentNode.left)\n",
    "        else:\n",
    "            currentNode.left = Node(key,val,parent=currentNode)\n",
    "            self.updateBalance(currentNode.right)\n",
    "def updateBalance(self,node):\n",
    "    if node.balanceFactor >1 or node.balanceFactor <-1:\n",
    "        self.rebalance(node)\n",
    "        return\n",
    "    if node.parent != None:\n",
    "        if node.isLeft():\n",
    "            node.parent.balanceFactor +=1\n",
    "        elif node.isRight():\n",
    "            node.parent.balanceFactor-=1\n",
    "\n",
    "        if node.parent.balanceFactor !=0:\n",
    "            self.updateBalance(node.parent)"
   ]
  },
  {
   "cell_type": "markdown",
   "execution_count": null,
   "metadata": {},
   "outputs": [],
   "source": [
    "Tracking and maintaing the balance factor is a good first step, however we need to have a way to re-form the tree so that balance is enforced. This is done through two methods rotateLeft() and rotateRight(). These essentially redistribute nodes in such a way that the tree becomes balanced.\n",
    "\n",
    "\n",
    "                E-2\n",
    "            C-1     F-0\n",
    "\n",
    "        B-1    D-0\n",
    "    \n",
    "    A-0\n",
    "\n",
    "In order to rebalance this tree we need to rotateRight(), this involves bringing the root down, and its left child up. We also replace the right child of C with E and attach D to the left of E.\n",
    "\n",
    "                C-0\n",
    "\n",
    "            B-1     E-0\n",
    "\n",
    "        A-0       D-0   F-0"
   ]
  },
  {
   "cell_type": "code",
   "execution_count": 4,
   "metadata": {},
   "outputs": [],
   "source": [
    "def rotateLeft(self,oldRoot):\n",
    "    newRoot = oldRoot.rightChild\n",
    "    oldRoot.rightChild = newRoot.leftChild\n",
    "    if newRoot.leftChild != None:\n",
    "        newRoot.leftChild.parent = oldRoot\n",
    "    newRoot.parent = oldRoot.parent\n",
    "    if oldRoot.isRoot():\n",
    "        self.root = newRoot\n",
    "    else:\n",
    "        if oldRoot.isLeft():\n",
    "                rotRoot.parent.leftChild = newRoot\n",
    "        else:\n",
    "            oldRoot.parent.rightChild = newRoot\n",
    "    newRoot.leftChild = oldRoot\n",
    "    oldRoot.parent = newRoot\n",
    "    oldRoot.balanceFactor = oldRoot.balanceFactor + 1 - min(newRoot.balanceFactor, 0)\n",
    "    newRoot.balanceFactor = newRoot.balanceFactor + 1 + max(oldRoot.balanceFactor, 0)\n",
    "\n",
    "\n",
    "def rebalance(self,node):\n",
    "  if node.balanceFactor < 0:\n",
    "         if node.rightChild.balanceFactor > 0:\n",
    "            self.rotateRight(node.rightChild)\n",
    "            self.rotateLeft(node)\n",
    "         else:\n",
    "            self.rotateLeft(node)\n",
    "  elif node.balanceFactor > 0:\n",
    "         if node.leftChild.balanceFactor < 0:\n",
    "            self.rotateLeft(node.leftChild)\n",
    "            self.rotateRight(node)\n",
    "         else:\n",
    "            self.rotateRight(node)"
   ]
  },
  {
   "cell_type": "code",
   "execution_count": null,
   "metadata": {},
   "outputs": [],
   "source": []
  }
 ]
}