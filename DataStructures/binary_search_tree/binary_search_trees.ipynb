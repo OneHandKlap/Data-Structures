{
 "cells": [
  {
   "cell_type": "markdown",
   "metadata": {},
   "source": [
    "Binary Search Trees - There are a variety of ways to use binary trees in order to accomplish complex algorithmic tasks. One of these is implementing a binary tree in a way that improves a typical search function. We will implement a tree whose node values are organized in a certain way, that will subsequently make the searching for a specific item much faster."
   ]
  },
  {
   "cell_type": "code",
   "execution_count": 0,
   "metadata": {},
   "outputs": [],
   "source": [
    "class BinarySearchTree():\n",
    "    def __init__(self):\n",
    "        self.root = None\n",
    "        self.size=0\n",
    "    def __len__(self):\n",
    "        return self.size\n",
    "    def __iter__(self):\n",
    "        return self.root.__iter__()\n",
    "    def place(self,key,val):\n",
    "        if self.root:\n",
    "            self.put(key,val,self.root)\n",
    "        else:\n",
    "            self.root = Node(key,val)\n",
    "        self.size+=1\n",
    "    def put(self,key,val,currentNode):\n",
    "        if key<currentNode.key:\n",
    "            if currentNode.hasLeft():\n",
    "                self.put(key,val,currentNode.left)\n",
    "            else:\n",
    "                currentNode.left = Node(key,val,parent=currentNode)\n",
    "        else:\n",
    "            if currentNode.hasRight():\n",
    "                self.put(key,val,currentNode.right)\n",
    "            else:\n",
    "                currentNode.right = Node(key,val,parent=currentNode)\n",
    "    def __setitem__(self,key,val):\n",
    "        self.place(key,val)\n",
    "    def get(self,key):\n",
    "        if self.root:\n",
    "            res = self.retrieve(key,self.root)\n",
    "            if res:\n",
    "                return res.val\n",
    "            else:\n",
    "                return None\n",
    "    def retrieve(self,key,currentNode):\n",
    "        if not currentNode:\n",
    "            return None\n",
    "        elif currentNode.key==key:\n",
    "            return currentNode\n",
    "        elif key<currentNode.key:\n",
    "            return retrieve(key,currentNode.getLeft())\n",
    "        else:\n",
    "            return retrieve(key,currentNode.getRight())\n",
    "    def __getitem__(self,key):\n",
    "        return self.get(key)\n",
    " \n",
    "class Node():\n",
    "    def __init__(self, key, val, left=None,right=None,parent=None):\n",
    "        self.key=key\n",
    "        self.val=val\n",
    "        self.left=left\n",
    "        self.right=right\n",
    "        self.parent=parent\n",
    "    def hasLeft(self):\n",
    "        return self.left\n",
    "    def hasRight(self):\n",
    "        return self.right\n",
    "    def isLeft(self):\n",
    "        return self.parent and self.parent.left ==self\n",
    "    def isRight(self):\n",
    "        return self.parent and self.parent.right==self\n",
    "    def isRoot(self):\n",
    "        return not self.parent\n",
    "    def hasBoth(self):\n",
    "        return self.right and self.left\n",
    "    def replaceData(self, key,val,left,right):\n",
    "        self.key=key\n",
    "        self.val=val\n",
    "        self.left=left\n",
    "        self.right=right\n",
    "        if self.hasLeft():\n",
    "            self.left.parent=self\n",
    "        if self.hasRight():\n",
    "            self.right.parent=self\n",
    "    def getLeft(self):\n",
    "        return self.left\n",
    "    def getRight(self):\n",
    "        return self.right\n",
    "    def inorder(self):\n",
    "        if self.hasLeft():\n",
    "            self.getLeft().inorder()\n",
    "        print(self.val)\n",
    "        if self.hasRight():\n",
    "            self.getRight().inorder()\n",
    "            \n",
    "example_tree = BinarySearchTree()"
   ]
  },
  {
   "cell_type": "markdown",
   "metadata": {},
   "source": [
    "Now that we have the basic layout required for our Binary Search Tree, we need to create a place() function that will organize the tree according to a given criteria. This is the foundation for how the tree is sorted, and also how it will be searched. In our case we are going to stipulate that all items larger than the root are to be placed on the lowest available leaf on the right side, and all items lesser than the root are to be placed on the highest available leaf on the left side of the tree."
   ]
  },
  {
   "cell_type": "code",
   "execution_count": null,
   "metadata": {},
   "outputs": [],
   "source": []
  },
  {
   "cell_type": "code",
   "execution_count": 3,
   "metadata": {},
   "outputs": [
    {
     "name": "stdout",
     "output_type": "stream",
     "text": "68\n55\n21\n"
    }
   ],
   "source": [
    "def place(self,key,val):\n",
    "    if self.root:\n",
    "        self.put(key,val,self.root)\n",
    "    else:\n",
    "        self.root = Node(key,val)\n",
    "    self.size+=1\n",
    "def put(self,key,val,currentNode):\n",
    "    if key<currentNode.key:\n",
    "        if currentNode.hasLeft():\n",
    "            self.put(key,val,currentNode.left)\n",
    "        else:\n",
    "            currentNode.left = Node(key,val,parent=currentNode)\n",
    "    else:\n",
    "        if currentNode.hasRight():\n",
    "            self.put(key,val,currentNode.right)\n",
    "        else:\n",
    "            currentNode.right = Node(key,val,parent=currentNode)\n",
    "example_tree.place(2,55)\n",
    "example_tree.place(1,68)\n",
    "example_tree.place(3,21)\n",
    "example_tree.root.inorder()\n"
   ]
  },
  {
   "cell_type": "markdown",
   "execution_count": null,
   "metadata": {},
   "outputs": [],
   "source": [
    "Remember from our previous section that inorder() traversal visits the left child first, then the root, then the right. In this case our tree has a root with key:2,val:55. That's because the tree was empty when we first placed it. The root's left child has key:1, val:68, our algorithm allocates all subsequent nodes into our tree based on the relationship between their keys. In this case 68 has a key of 1 which is smaller, therefore ends up in the left child position. Conversely, our right child has key:3,val:21.\n",
    "\n",
    "Now that our construction and organization is complete we can turn to retrieval:"
   ]
  },
  {
   "cell_type": "code",
   "execution_count": 4,
   "metadata": {},
   "outputs": [
    {
     "name": "stdout",
     "output_type": "stream",
     "text": "55\n"
    }
   ],
   "source": [
    "def get(self,key):\n",
    "    if self.root:\n",
    "        res = self.retrieve(key,self.root)\n",
    "        if res:\n",
    "            return res.val\n",
    "        else:\n",
    "            return None\n",
    "def retrieve(self,key,currentNode):\n",
    "    if not currentNode:\n",
    "        return None\n",
    "    elif currentNode.key==key:\n",
    "        return currentNode\n",
    "    elif key<currentNode.key:\n",
    "        return retrieve(key,currentNode.getLeft())\n",
    "    else:\n",
    "        return retrieve(key,currentNode.getRight())\n",
    "def __getitem__(self,key):\n",
    "    return self.get(key)\n",
    "\n",
    "print(example_tree.get(2))"
   ]
  },
  {
   "cell_type": "markdown",
   "execution_count": null,
   "metadata": {},
   "outputs": [],
   "source": [
    "Notes:\n",
    "\n",
    "When the binary search tree is balanced gets pretty good performance, node retrieval and depositing has a complexity of O(log_2n). But when the tree becomes unbalanced this performance can degrade to O(n)."
   ]
  }
 ],
 "metadata": {
  "kernelspec": {
   "display_name": "'Python Interactive'",
   "language": "python",
   "name": "2a1fc571-fdd4-4756-bf83-46d92d05e75d"
  },
  "language_info": {
   "codemirror_mode": {
    "name": "ipython",
    "version": 3
   },
   "file_extension": ".py",
   "mimetype": "text/x-python",
   "name": "python",
   "nbconvert_exporter": "python",
   "pygments_lexer": "ipython3",
   "version": "3.7.5"
  }
 },
 "nbformat": 4,
 "nbformat_minor": 2
}