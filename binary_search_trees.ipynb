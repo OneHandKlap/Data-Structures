{
 "cells": [
  {
   "cell_type": "markdown",
   "metadata": {},
   "source": [
    "Binary Search Trees - There are a variety of ways to use binary trees in order to accomplish complex algorithmic tasks. One of these is implementing a binary tree in a way that improves a typical search function. We will implement a tree whose node values are organized in a certain way, that will subsequently make the searching for a specific item much faster."
   ]
  },
  {
   "cell_type": "code",
   "execution_count": 16,
   "metadata": {},
   "outputs": [],
   "source": [
    "class BinarySearchTree():\n",
    "    def __init__(self):\n",
    "        self.root = None\n",
    "        self.size=0\n",
    "    def __len__(self):\n",
    "        return self.size\n",
    "    def __iter__(self):\n",
    "        return self.root.__iter__()\n",
    "    def place(self,key,val):\n",
    "        if self.root:\n",
    "            self.put(key,val,self.root)\n",
    "        else:\n",
    "            self.root = Node(key,val)\n",
    "        self.size+=1\n",
    "    def put(self,key,val,currentNode):\n",
    "        if key<currentNode.key:\n",
    "            if currentNode.hasLeft():\n",
    "                self.put(key,val,currentNode.left)\n",
    "            else:\n",
    "                currentNode.left = Node(key,val,parent=currentNode)\n",
    "        else:\n",
    "            if currentNode.hasRight():\n",
    "                self.put(key,val,currentNode.right)\n",
    "            else:\n",
    "                currentNode.right = Node(key,val,parent=currentNode)\n",
    "    \n",
    " \n",
    "class Node():\n",
    "    def __init__(self, key, val, left=None,right=None,parent=None):\n",
    "        self.key=key\n",
    "        self.val=val\n",
    "        self.left=left\n",
    "        self.right=right\n",
    "        self.parent=parent\n",
    "    def hasLeft(self):\n",
    "        return self.left\n",
    "    def hasRight(self):\n",
    "        return self.right\n",
    "    def isLeft(self):\n",
    "        return self.parent and self.parent.left ==self\n",
    "    def isRight(self):\n",
    "        return self.parent and self.parent.right==self\n",
    "    def isRoot(self):\n",
    "        return not self.parent\n",
    "    def hasBoth(self):\n",
    "        return self.right and self.left\n",
    "    def replaceData(self, key,val,left,right):\n",
    "        self.key=key\n",
    "        self.val=val\n",
    "        self.left=left\n",
    "        self.right=right\n",
    "        if self.hasLeft():\n",
    "            self.left.parent=self\n",
    "        if self.hasRight():\n",
    "            self.right.parent=self\n",
    "    def getLeft(self):\n",
    "        return self.left\n",
    "    def getRight(self):\n",
    "        return self.right\n",
    "    def inorder(self):\n",
    "        if self.hasLeft():\n",
    "            self.getLeft().inorder()\n",
    "        print(self.val)\n",
    "        if self.hasRight():\n",
    "            self.getRight().inorder()\n",
    "            \n",
    "example_tree = BinarySearchTree()"
   ]
  },
  {
   "cell_type": "markdown",
   "metadata": {},
   "source": [
    "Now that we have the basic layout required for our Binary Search Tree, we need to create a place() function that will organize the tree according to a given criteria. This is the foundation for how the tree is sorted, and also how it will be searched. In our case we are going to stipulate that all items larger than the root are to be placed on the lowest available leaf on the right side, and all items lesser than the root are to be placed on the highest available leaf on the left side of the tree."
   ]
  },
  {
   "cell_type": "code",
   "execution_count": null,
   "metadata": {},
   "outputs": [],
   "source": []
  },
  {
   "cell_type": "code",
   "execution_count": 17,
   "metadata": {},
   "outputs": [
    {
     "name": "stdout",
     "output_type": "stream",
     "text": "55\n"
    },
    {
     "ename": "NameError",
     "evalue": "name 'inorder' is not defined",
     "output_type": "error",
     "traceback": [
      "\u001b[1;31m---------------------------------------------------------------------------\u001b[0m",
      "\u001b[1;31mNameError\u001b[0m                                 Traceback (most recent call last)",
      "\u001b[1;32m<ipython-input-17-f4e36c42c90d>\u001b[0m in \u001b[0;36m<module>\u001b[1;34m\u001b[0m\n\u001b[0;32m     19\u001b[0m \u001b[0mexample_tree\u001b[0m\u001b[1;33m.\u001b[0m\u001b[0mplace\u001b[0m\u001b[1;33m(\u001b[0m\u001b[1;36m2\u001b[0m\u001b[1;33m,\u001b[0m\u001b[1;36m68\u001b[0m\u001b[1;33m)\u001b[0m\u001b[1;33m\u001b[0m\u001b[1;33m\u001b[0m\u001b[0m\n\u001b[0;32m     20\u001b[0m \u001b[0mexample_tree\u001b[0m\u001b[1;33m.\u001b[0m\u001b[0mplace\u001b[0m\u001b[1;33m(\u001b[0m\u001b[1;36m3\u001b[0m\u001b[1;33m,\u001b[0m\u001b[1;36m21\u001b[0m\u001b[1;33m)\u001b[0m\u001b[1;33m\u001b[0m\u001b[1;33m\u001b[0m\u001b[0m\n\u001b[1;32m---> 21\u001b[1;33m \u001b[0mexample_tree\u001b[0m\u001b[1;33m.\u001b[0m\u001b[0mroot\u001b[0m\u001b[1;33m.\u001b[0m\u001b[0minorder\u001b[0m\u001b[1;33m(\u001b[0m\u001b[1;33m)\u001b[0m\u001b[1;33m\u001b[0m\u001b[1;33m\u001b[0m\u001b[0m\n\u001b[0m",
      "\u001b[1;32m<ipython-input-16-938ee13f4e71>\u001b[0m in \u001b[0;36minorder\u001b[1;34m(self)\u001b[0m\n\u001b[0;32m     63\u001b[0m         \u001b[0mprint\u001b[0m\u001b[1;33m(\u001b[0m\u001b[0mself\u001b[0m\u001b[1;33m.\u001b[0m\u001b[0mval\u001b[0m\u001b[1;33m)\u001b[0m\u001b[1;33m\u001b[0m\u001b[1;33m\u001b[0m\u001b[0m\n\u001b[0;32m     64\u001b[0m         \u001b[1;32mif\u001b[0m \u001b[0mself\u001b[0m\u001b[1;33m.\u001b[0m\u001b[0mhasRight\u001b[0m\u001b[1;33m(\u001b[0m\u001b[1;33m)\u001b[0m\u001b[1;33m:\u001b[0m\u001b[1;33m\u001b[0m\u001b[1;33m\u001b[0m\u001b[0m\n\u001b[1;32m---> 65\u001b[1;33m             \u001b[0minorder\u001b[0m\u001b[1;33m(\u001b[0m\u001b[0mself\u001b[0m\u001b[1;33m.\u001b[0m\u001b[0mgetRight\u001b[0m\u001b[1;33m(\u001b[0m\u001b[1;33m)\u001b[0m\u001b[1;33m)\u001b[0m\u001b[1;33m\u001b[0m\u001b[1;33m\u001b[0m\u001b[0m\n\u001b[0m\u001b[0;32m     66\u001b[0m \u001b[1;33m\u001b[0m\u001b[0m\n\u001b[0;32m     67\u001b[0m \u001b[0mexample_tree\u001b[0m \u001b[1;33m=\u001b[0m \u001b[0mBinarySearchTree\u001b[0m\u001b[1;33m(\u001b[0m\u001b[1;33m)\u001b[0m\u001b[1;33m\u001b[0m\u001b[1;33m\u001b[0m\u001b[0m\n",
      "\u001b[1;31mNameError\u001b[0m: name 'inorder' is not defined"
     ]
    }
   ],
   "source": [
    "def place(self,key,val):\n",
    "    if self.root:\n",
    "        self.put(key,val,self.root)\n",
    "    else:\n",
    "        self.root = Node(key,val)\n",
    "    self.size+=1\n",
    "def put(self,key,val,currentNode):\n",
    "    if key<currentNode.key:\n",
    "        if currentNode.hasLeft():\n",
    "            self.put(key,val,currentNode.left)\n",
    "        else:\n",
    "            currentNode.left = Node(key,val,parent=currentNode)\n",
    "    else:\n",
    "        if currentNode.hasRight():\n",
    "            self.put(key,val,currentNode.right)\n",
    "        else:\n",
    "            currentNode.right = Node(key,val,parent=currentNode)\n",
    "example_tree.place(1,55)\n",
    "example_tree.place(2,68)\n",
    "example_tree.place(3,21)\n",
    "example_tree.root.inorder()\n"
   ]
  },
  {
   "cell_type": "code",
   "execution_count": null,
   "metadata": {},
   "outputs": [],
   "source": []
  }
 ],
 "metadata": {
  "kernelspec": {
   "display_name": "'Python Interactive'",
   "language": "python",
   "name": "2a1fc571-fdd4-4756-bf83-46d92d05e75d"
  },
  "language_info": {
   "codemirror_mode": {
    "name": "ipython",
    "version": 3
   },
   "file_extension": ".py",
   "mimetype": "text/x-python",
   "name": "python",
   "nbconvert_exporter": "python",
   "pygments_lexer": "ipython3",
   "version": "3.7.3"
  }
 },
 "nbformat": 4,
 "nbformat_minor": 2
}