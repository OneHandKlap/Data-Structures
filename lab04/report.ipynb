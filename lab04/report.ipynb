{
 "cells": [
  {
   "cell_type": "code",
   "execution_count": null,
   "metadata": {},
   "outputs": [],
   "source": [
    "import turtle\n",
    "import random\n",
    "\n",
    "def tree(branchLen,t,angle=0):\n",
    "    if branchLen<=25:\n",
    "        t.pencolor('green')\n",
    "    else:\n",
    "        t.pencolor('#8a5103')\n",
    "    if branchLen<=5:\n",
    "        return\n",
    "    else:\n",
    "        rand_angle=random.randrange(5,25) #between 5 and 25 degrees of angle seemed most natural looking to me  \n",
    "        rand_branch_reduction = random.randrange(5,10) #I found that a smaller factor of reduction increased the over all size of the tree, making it look more natural\n",
    "        t.pensize((branchLen/75)*10) # the pensize is a function of the branch length, as the branch decreases in length, so does the pen size\n",
    "        t.forward(branchLen)\n",
    "        t.right(rand_angle)\n",
    "        tree(branchLen-rand_branch_reduction,t,rand_angle) \n",
    "        t.left(rand_angle*2)\n",
    "        tree(branchLen-rand_branch_reduction,t,rand_angle)\n",
    "        t.right(rand_angle)\n",
    "        t.backward(branchLen)\n",
    "        t.color(\"#8a5103\") #nicer shade of brown#\n",
    "\n",
    "def main():\n",
    "    t=turtle.Turtle()\n",
    "    myWin = turtle.Screen()\n",
    "    turtle.tracer(0) #turns off the tracer so that the image is generated automatically\n",
    "    t.left(90)\n",
    "    t.up()\n",
    "    t.backward(200) #modified so my larger tree would fit on the page\n",
    "    t.down()\n",
    "    t.color(\"green\")\n",
    "    tree(75,t)\n",
    "    turtle.getscreen().getcanvas().postscript(file=\"tree.ps\")\n",
    "    myWin.exitonclick()\n",
    "\n",
    "def power(x,n,acc):\n",
    "    if n==0:\n",
    "        return acc\n",
    "    else:\n",
    "        acc=acc*x\n",
    "        return (power(x,n-1,acc))\n",
    "\n",
    "def powerH(x,n):\n",
    "    if n ==1:\n",
    "        return x\n",
    "    else:\n",
    "        if n%2==0:\n",
    "            return (powerH(x,n//2)*powerH(x,n//2))\n",
    "        else:\n",
    "            return (powerH(x,n//2)*powerH(x,n//2))*x\n",
    "\n",
    "def C(n,k):\n",
    "    if k==0 or k==n:\n",
    "        return 1\n",
    "    else:\n",
    "        return C(n-1,k)+C(n-1,k-1)"
   ]
  },
  {
   "cell_type": "markdown",
   "metadata": {},
   "source": [
    "In the above code you will find 5 functions. \n",
    "\n",
    "The first two are for exercise 1 and are used for the demonstration of recursive fractal imaging. A recursive function is used to draw a tree. As the trunk extends upward the function calls itself generating smaller and smaller \"trees\" or branches at various angles.\n",
    "\n",
    "The last three are for exercise 2. These are recursive versions of various math functions. The first, \"power\" is a tail recursive function for calculating a value x raised to some power n. It is tail recursive because it uses an accumulator. The second function is also recursive but not tail-recursive. It does the same thing, but calculates it by continuously splitting down the n value into halves until it reaches one, then multiplies them all. The final function recursively generates a 'binomial coefficient' out of two values 'n' and 'k'. These values can be understood to be row/column identifiers of Pascal's triangle."
   ]
  }
 ],
 "metadata": {
  "kernelspec": {
   "display_name": "Python 3",
   "language": "python",
   "name": "python3"
  },
  "language_info": {
   "codemirror_mode": {
    "name": "ipython",
    "version": 3
   },
   "file_extension": ".py",
   "mimetype": "text/x-python",
   "name": "python",
   "nbconvert_exporter": "python",
   "pygments_lexer": "ipython3",
   "version": "3.7.4"
  }
 },
 "nbformat": 4,
 "nbformat_minor": 2
}
