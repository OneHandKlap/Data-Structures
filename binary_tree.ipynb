{
 "nbformat": 4,
 "nbformat_minor": 2,
 "metadata": {
  "language_info": {
   "name": "python",
   "codemirror_mode": {
    "name": "ipython",
    "version": 3
   },
   "version": "3.7.3"
  },
  "orig_nbformat": 2,
  "file_extension": ".py",
  "mimetype": "text/x-python",
  "name": "python",
  "npconvert_exporter": "python",
  "pygments_lexer": "ipython3",
  "version": 3
 },
 "cells": [
  {
   "cell_type": "markdown",
   "execution_count": null,
   "metadata": {},
   "outputs": [
    {
     "evalue": "Error: Jupyter cannot be started. Error attempting to locate jupyter: python -m jupyter notebook --version is not running",
     "output_type": "error"
    }
   ],
   "source": [
    "Tree - a simple implementation and analysis of traversal and searching"
   ]
  },
  {
   "cell_type": "code",
   "execution_count": 3,
   "metadata": {},
   "outputs": [],
   "source": [
    "class BinaryTree:\n",
    "    def __init__(self, root):\n",
    "        self.key=root\n",
    "        self.left=None\n",
    "        self.right=None\n",
    "\n",
    "    def insertLeft(self,new):\n",
    "        if self.left==None:\n",
    "            self.left = BinaryTree(new)\n",
    "        else:\n",
    "            newLeft=BinaryTree(new)\n",
    "            newLeft.left,self.left=self.left,newLeft\n",
    "    def insertRight(self,new):\n",
    "        if self.right==None:\n",
    "            self.right = BinaryTree(new)\n",
    "        else:\n",
    "            newRight=BinaryTree(new)\n",
    "            newRight.right,self.right=self.right,newRight\n",
    "    def getRight(self):\n",
    "        return self.right\n",
    "    def getLeft(self):\n",
    "        return self.left\n",
    "    def setRoot(self,data):\n",
    "        self.key=data\n",
    "    def getRoot(self):\n",
    "        return self.key\n"
   ]
  },
  {
   "cell_type": "code",
   "execution_count": 4,
   "metadata": {},
   "outputs": [
    {
     "name": "stdout",
     "output_type": "stream",
     "text": "10\nNone\nNone\n"
    }
   ],
   "source": [
    "tree = BinaryTree(10)\n",
    "print(tree.getRoot())\n",
    "print(tree.getLeft())\n",
    "print(tree.getRight())"
   ]
  },
  {
   "cell_type": "code",
   "execution_count": 5,
   "metadata": {},
   "outputs": [
    {
     "name": "stdout",
     "output_type": "stream",
     "text": "<__main__.BinaryTree object at 0x0983DB30>\n12\n<__main__.BinaryTree object at 0x098616F0>\n14\n"
    }
   ],
   "source": [
    "tree.insertLeft(12)\n",
    "print(tree.getLeft())\n",
    "print(tree.getLeft().getRoot())\n",
    "tree.insertLeft(14)\n",
    "print(tree.getLeft())\n",
    "print(tree.getLeft().getRoot())"
   ]
  },
  {
   "cell_type": "markdown",
   "execution_count": null,
   "metadata": {},
   "outputs": [],
   "source": [
    "As we can see above, standard BinaryTree data structures use root-child relationships to organize data. First we initialize a root with a value of 10, and do not give it any children. We then insert another node or 'child' tree to the left, which is printed with the getLeft() function. The interesting thing to note, is that subsequent insertLeft() calls on the original root push previously existing children in that slot further down the tree.\n",
    "\n",
    "Original:                       Second:                             Third:\n",
    "\n",
    "        10                                 10                               10\n",
    "    None    None                        12      None                    14      None\n",
    "                                    None   None                     12      None\n",
    "                                                                None    None"
   ]
  },
  {
   "cell_type": "markdown",
   "execution_count": null,
   "metadata": {},
   "outputs": [],
   "source": [
    "We can use BinaryTrees to solve some real world problems because their structure allows us to mimic phenomena such as sentences and mathematical expressions.\n",
    "\n",
    "Example:    ((7+3)*(5-2))\n",
    "\n",
    "Tree Form:              \n",
    "                        \n",
    "                        *\n",
    "\n",
    "                    +       -\n",
    "\n",
    "                7       3 5     2\n",
    "The binarytree structure maintains the hierarchical nature of expressions such as these, which will allow us to implement algorithms to solve them."
   ]
  },
  {
   "cell_type": "code",
   "execution_count": 6,
   "metadata": {},
   "outputs": [
    {
     "name": "stdout",
     "output_type": "stream",
     "text": "*\n+\n3\n10\n5\n"
    }
   ],
   "source": [
    "\n",
    "class Stack(list):\n",
    "    def push(self, item):\n",
    "        self.append(item)\n",
    "    def isEmpty(self):\n",
    "        return not self\n",
    "    def __pop__():\n",
    "        self.pop(0)\n",
    "\n",
    "def buildParseTree(fpexp):\n",
    "    fplist = fpexp.split()\n",
    "    pStack = Stack()\n",
    "    eTree = BinaryTree('')\n",
    "    pStack.push(eTree)\n",
    "    currentTree = eTree\n",
    "\n",
    "    for i in fplist:\n",
    "        if i == '(':\n",
    "            currentTree.insertLeft('')\n",
    "            pStack.push(currentTree)\n",
    "            currentTree = currentTree.getLeft()\n",
    "\n",
    "        elif i in ['+', '-', '*', '/']:\n",
    "            currentTree.setRoot(i)\n",
    "            currentTree.insertRight('')\n",
    "            pStack.push(currentTree)\n",
    "            currentTree = currentTree.getRight()\n",
    "\n",
    "        elif i == ')':\n",
    "            currentTree = pStack.pop()\n",
    "\n",
    "        elif i not in ['+', '-', '*', '/', ')']:\n",
    "            try:\n",
    "                currentTree.setRoot(int(i))\n",
    "                parent = pStack.pop()\n",
    "                currentTree = parent\n",
    "\n",
    "            except ValueError:\n",
    "                raise ValueError(\"token '{}' is not a valid integer\".format(i))\n",
    "\n",
    "    return eTree\n",
    "\n",
    "pt = buildParseTree(\"( ( 10 + 5 ) * 3 )\")\n",
    "print(pt.getRoot())\n",
    "print(pt.getLeft().getRoot())\n",
    "print(pt.getRight().getRoot())\n",
    "print(pt.getLeft().getLeft().getRoot())\n",
    "print(pt.getLeft().getRight().getRoot())"
   ]
  },
  {
   "cell_type": "code",
   "execution_count": 7,
   "metadata": {},
   "outputs": [
    {
     "name": "stdout",
     "output_type": "stream",
     "text": "45\n"
    }
   ],
   "source": [
    "import operator\n",
    "def eval(parsedTree):\n",
    "    operators = {'+':operator.add,'-':operator.sub,'/':operator.truediv,'*':operator.mul}\n",
    "    left=parsedTree.getLeft()\n",
    "    right=parsedTree.getRight()\n",
    "\n",
    "    if left and right:\n",
    "        op = operators[parsedTree.getRoot()]\n",
    "        return op(eval(left),eval(right))\n",
    "    else:\n",
    "        return parsedTree.getRoot()\n",
    "\n",
    "print(eval(pt))"
   ]
  },
  {
   "cell_type": "markdown",
   "execution_count": null,
   "metadata": {},
   "outputs": [],
   "source": [
    "Tree Traversal occurs in three different ways: preorder, postorder, inorder. Preorder will first visit the root, travel down to the bottom left most child and work its way back up, and then do the same on the right. Postorder does the same thing but visits the root last. Inorder will process the left side, visit the root, then process the right side.\n",
    "\n",
    "For the tree above:\n",
    "\n",
    "            *\n",
    "        +       3\n",
    "    10     5 None   None\n",
    "\n",
    "Preorder will print the following:*,+,10,5,3\n",
    "Postorder will print the following:10,5,+,3,*\n",
    "Inorder will print: 10,5,+,*,3"
   ]
  },
  {
   "cell_type": "code",
   "execution_count": 43,
   "metadata": {},
   "outputs": [
    {
     "name": "stdout",
     "output_type": "stream",
     "text": "*\n+\n10\n5\n3\n"
    }
   ],
   "source": [
    "def preorder(tree):\n",
    "    if tree:\n",
    "        print(tree.getRoot())\n",
    "        preorder(tree.getLeft())\n",
    "        preorder(tree.getRight())\n",
    "preorder(pt)"
   ]
  },
  {
   "cell_type": "code",
   "execution_count": 44,
   "metadata": {},
   "outputs": [
    {
     "name": "stdout",
     "output_type": "stream",
     "text": "10\n5\n+\n3\n*\n"
    }
   ],
   "source": [
    "def postorder(tree):\n",
    "    if tree != None:\n",
    "        postorder(tree.getLeft())\n",
    "        postorder(tree.getRight())\n",
    "        print(tree.getRoot())\n",
    "postorder(pt)"
   ]
  },
  {
   "cell_type": "code",
   "execution_count": 8,
   "metadata": {},
   "outputs": [
    {
     "name": "stdout",
     "output_type": "stream",
     "text": "10\n+\n5\n*\n3\n"
    }
   ],
   "source": [
    "def inorder(tree):\n",
    "  if tree != None:\n",
    "      inorder(tree.getLeft())\n",
    "      print(tree.getRoot())\n",
    "      inorder(tree.getRight())\n",
    "inorder(pt)"
   ]
  },
  {
   "cell_type": "code",
   "execution_count": null,
   "metadata": {},
   "outputs": [],
   "source": []
  }
 ]
}