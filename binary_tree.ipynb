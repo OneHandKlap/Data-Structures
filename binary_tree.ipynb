{
 "nbformat": 4,
 "nbformat_minor": 2,
 "metadata": {
  "language_info": {
   "name": "python",
   "codemirror_mode": {
    "name": "ipython",
    "version": 3
   }
  },
  "orig_nbformat": 2,
  "file_extension": ".py",
  "mimetype": "text/x-python",
  "name": "python",
  "npconvert_exporter": "python",
  "pygments_lexer": "ipython3",
  "version": 3
 },
 "cells": [
  {
   "cell_type": "markdown",
   "execution_count": null,
   "metadata": {},
   "outputs": [],
   "source": [
    "Binary Heaps\n",
    "\n",
    "Binary heaps are a lot like Binary Trees, they use the same structure but for different ends. The tree structure allows for sorting in O(nLogn) time, implementing priority queues, and solving certain graph algorithms such as \"Shortest path between nodes.\" Essentially, the parent-child relationship is now based on some type of comparison between the data stored in each node. If we were to use a bin heap for an array of numbers, a \"min bin heap\" would store the smallest value at the root, and every child thereon would be smaller than it's parent."
   ]
  },
  {
   "cell_type": "code",
   "execution_count": null,
   "metadata": {},
   "outputs": [],
   "source": [
    "class BinaryHeap():\n",
    "    def __init__(self):\n",
    "        self.data=[0]\n",
    "        self.size=0\n",
    "    def reHeap(self,i):\n",
    "        while i//2>0:\n",
    "            if self.data[i]<self.data[i//2]:\n",
    "                temp =self.data[i//2]\n",
    "                self.data[i//2]=self.data[i]\n",
    "                self.data[i]=temp\n",
    "            i=i//2\n",
    "    def insert(self,item):\n",
    "        self.data.append(item)\n",
    "        self.size+=1\n",
    "        self.reHeap(self.size)\n",
    "    def getRoot(self):\n",
    "        return self.data[0]\n",
    "example = BinaryHeap()\n",
    "example.insert(9)\n",
    "example.insert(13)\n",
    "example.insert(5)\n",
    "print(example.getRoot())"
   ]
  },
  {
   "cell_type": "code",
   "execution_count": null,
   "metadata": {},
   "outputs": [],
   "source": []
  }
 ]
}