{
 "cells": [
  {
   "cell_type": "code",
   "execution_count": 9,
   "metadata": {},
   "outputs": [
    {
     "name": "stdout",
     "output_type": "stream",
     "text": [
      "[2, 1, 3]\n",
      "[2, 1, None, None, 4, 3]\n"
     ]
    }
   ],
   "source": [
    "class hashtable():\n",
    "    def __init__(self,size=11):\n",
    "        self.size=size\n",
    "        self.slots=[None]*size\n",
    "        self.data=[None]*size\n",
    "\n",
    "    def put(self,key,data):\n",
    "        load_factor = self.get_load()\n",
    "        if load_factor>.75:\n",
    "            self.resize_map()\n",
    "        hashvalue = self.hashfunction(key,self.size)\n",
    "        if self.slots[hashvalue]==None:\n",
    "            self.slots[hashvalue]=key\n",
    "            self.data[hashvalue]=data\n",
    "        else:\n",
    "            if self.slots[hashvalue]==key:\n",
    "                self.data[hashvalue]=data\n",
    "            else:\n",
    "                nextslot = self.rehash(hashvalue,self.size)\n",
    "                while self.slots[nextslot]!=None and self.slots[nextslot]!=key:\n",
    "                    nextslot=self.rehash(nextslot,self.size)\n",
    "                if self.slots[nextslot]==None:\n",
    "                    self.slots[nextslot]=key\n",
    "                    self.data[nextslot]=data\n",
    "                else:\n",
    "                    self.data[nextslot]=data\n",
    "\n",
    "    def get(self,key):\n",
    "        startslot = self.hashfunction(key,len(self.slots))\n",
    "\n",
    "        data = None\n",
    "        stop = False\n",
    "        found = False\n",
    "        position = startslot\n",
    "        while self.slots[position] != None and  \\\n",
    "                            not found and not stop:\n",
    "            if self.slots[position] == key:\n",
    "                found = True\n",
    "                data = self.data[position]\n",
    "            else:\n",
    "                position=self.rehash(position,len(self.slots))\n",
    "                if position == startslot:\n",
    "                    stop = True\n",
    "        return data\n",
    "\n",
    "    def __getitem__(self,key):\n",
    "        return self.get(key)\n",
    "\n",
    "    def __setitem__(self,key,data):\n",
    "         self.put(key,data)\n",
    "\n",
    "    def hashfunction(self,key,size):\n",
    "        return key%size\n",
    "\n",
    "    def rehash(self,oldhash,size):\n",
    "        return (oldhash+1)%size\n",
    "    def get_data(self):\n",
    "        return self.data\n",
    "    def get_load(self):\n",
    "        used_slots=0\n",
    "        for x in self.data:\n",
    "            if x != None:\n",
    "                used_slots+=1\n",
    "        return float(used_slots/self.size)\n",
    "\n",
    "    def resize_map(self):\n",
    "        temp_slots=self.slots\n",
    "        temp_data=self.data\n",
    "        self.size=2*self.size\n",
    "        self.slots=[None]*self.size\n",
    "        self.data=[None]*self.size\n",
    "        \n",
    "        for x in range(len(temp_slots)):\n",
    "            if temp_slots[x]!=None:\n",
    "                self.put(temp_slots[x],temp_data[x])\n",
    "        \n",
    "        \n",
    "t=hashtable(3)\n",
    "t.put(55,1)\n",
    "t.put(66,2)\n",
    "t.put(77,3)\n",
    "print(t.get_data())\n",
    "t.put(88,4)\n",
    "print(t.get_data())\n",
    "        "
   ]
  },
  {
   "cell_type": "markdown",
   "metadata": {},
   "source": [
    "I have added some functionality to the code supplied in the text-book. Firstly, the class hashtable() now takes an integer as a parameter (defaults to 11) so as to specify the starting size of the table. This was mainly to make it easier to test that the deeper functions were working correctly. I also added two functions: get_load() and resize_map(). Get_load() merely returns the current load factor of the hashtable it is called on. Resize_map() doubles the size of the map and then re-puts all of the values that had previously been stored in there (this is done because the hashfunction supplied in the textbook relies on the size of the map). Lastly, the put() function was modified so that prior to doing any \"putting\" it now checks to see if the load factor is greater than 75%, if it is then it calls the resize_map() function before proceeding, this prevents an error from ever occurring because the map is full. I chose 75% as a load factor because it seemed like a reasonable value to maintain the <50% probability that a slot is not full."
   ]
  }
 ],
 "metadata": {
  "kernelspec": {
   "display_name": "Python 3",
   "language": "python",
   "name": "python3"
  },
  "language_info": {
   "codemirror_mode": {
    "name": "ipython",
    "version": 3
   },
   "file_extension": ".py",
   "mimetype": "text/x-python",
   "name": "python",
   "nbconvert_exporter": "python",
   "pygments_lexer": "ipython3",
   "version": "3.7.4"
  }
 },
 "nbformat": 4,
 "nbformat_minor": 2
}
