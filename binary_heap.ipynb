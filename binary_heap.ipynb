{
 "nbformat": 4,
 "nbformat_minor": 2,
 "metadata": {
  "language_info": {
   "name": "python",
   "codemirror_mode": {
    "name": "ipython",
    "version": 3
   }
  },
  "orig_nbformat": 2,
  "file_extension": ".py",
  "mimetype": "text/x-python",
  "name": "python",
  "npconvert_exporter": "python",
  "pygments_lexer": "ipython3",
  "version": 3
 },
 "cells": [
  {
   "cell_type": "markdown",
   "execution_count": null,
   "metadata": {},
   "outputs": [],
   "source": [
    "Binary Heaps"
   ]
  },
  {
   "cell_type": "code",
   "execution_count": null,
   "metadata": {},
   "outputs": [],
   "source": [
    "class BinaryHeap():\n",
    "    def __init__(self):\n",
    "        self.data=[0]\n",
    "        self.size=0\n",
    "    def reHeap(self,i):\n",
    "        while i//2>0:\n",
    "            if self.data[i]<self.data[i//2]:\n",
    "                temp =self.data[i//2]\n",
    "                self.data[i//2]=self.data[i]\n",
    "                self.data[i]=temp\n",
    "            i=i//2"
   ]
  }
 ]
}