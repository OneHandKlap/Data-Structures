{
 "nbformat": 4,
 "nbformat_minor": 2,
 "metadata": {
  "language_info": {
   "name": "python",
   "codemirror_mode": {
    "name": "ipython",
    "version": 3
   },
   "version": "3.7.5"
  },
  "orig_nbformat": 2,
  "file_extension": ".py",
  "mimetype": "text/x-python",
  "name": "python",
  "npconvert_exporter": "python",
  "pygments_lexer": "ipython3",
  "version": 3
 },
 "cells": [
  {
   "cell_type": "markdown",
   "execution_count": null,
   "metadata": {},
   "outputs": [],
   "source": [
    "Binary Heaps\n",
    "\n",
    "Binary heaps are a lot like Binary Trees, they use the same structure but for different ends. The tree structure allows for sorting in O(nLogn) time, implementing priority queues, and solving certain graph algorithms such as \"Shortest path between nodes.\" Essentially, the parent-child relationship is now based on some type of comparison between the data stored in each node. If we were to use a bin heap for an array of numbers, a \"min bin heap\" would store the smallest value at the root, and every child thereon would be smaller than it's parent."
   ]
  },
  {
   "cell_type": "code",
   "execution_count": 18,
   "metadata": {},
   "outputs": [
    {
     "ename": "IndentationError",
     "evalue": "expected an indented block (<ipython-input-18-12174c4f4273>, line 20)",
     "output_type": "error",
     "traceback": [
      "\u001b[1;36m  File \u001b[1;32m\"<ipython-input-18-12174c4f4273>\"\u001b[1;36m, line \u001b[1;32m20\u001b[0m\n\u001b[1;33m    while(i*2)<=self.size:\u001b[0m\n\u001b[1;37m        ^\u001b[0m\n\u001b[1;31mIndentationError\u001b[0m\u001b[1;31m:\u001b[0m expected an indented block\n"
     ]
    }
   ],
   "source": [
    "class BinaryHeap():\n",
    "    def __init__(self):\n",
    "        self.data=[0]\n",
    "        self.size=0\n",
    "    def reHeapUp(self,i):\n",
    "        while i//2>0: #while there are items in our heap\n",
    "            if self.data[i]<self.data[i//2]: #if this item is smaller than its parent, swap this item and its parent\n",
    "                temp =self.data[i//2]\n",
    "                self.data[i//2]=self.data[i]\n",
    "                self.data[i]=temp\n",
    "            i=i//2 #move up a level in the tree\n",
    "    def insert(self,array):\n",
    "        for i in array:\n",
    "            self.data.append(i)\n",
    "            self.size+=1\n",
    "            self.reHeapUp(self.size)\n",
    "    def getRoot(self):\n",
    "        return self.data[1]\n",
    "    def reHeapDown(self,i): #this will almost always be called when i=1 or for the item at the top of the heap\n",
    "        while(i*2)<=self.size: \n",
    "            minVal=self.minVal(i) #find the smallest child of the root\n",
    "            if self.data[i] > self.data[minVal]: #if the root is greater than the child, swap them\n",
    "                temp = self.data[i]\n",
    "                self.data[i]=self.data[minVal]\n",
    "                self.data[minVal]= temp\n",
    "            i=minVal #repeat for the new \"root\"\n",
    "\n",
    "    def minVal(self,i):\n",
    "        if i*2+1 > self.size: #if there is only a left node, return that node's position #\n",
    "            return i*2\n",
    "        else:\n",
    "            if self.data[i*2] < self.data[i*2+1]: #else return the position # of the smaller item\n",
    "                return i*2\n",
    "            else:\n",
    "                return i*2+1\n",
    "\n",
    "    def dequeueMin(self):\n",
    "        res = self.data[1]\n",
    "        self.data[1] = self.data[self.size] # bring up the biggest value\n",
    "        self.size -=1\n",
    "        self.data.pop()\n",
    "        self.reHeapDown(1)\n",
    "        return res\n",
    "example = BinaryHeap()\n",
    "example.insert([9,13,4,5])\n",
    "print(example.getRoot())"
   ]
  },
  {
   "cell_type": "markdown",
   "execution_count": null,
   "metadata": {},
   "outputs": [],
   "source": [
    "It is important to note here that the root value is stored at index position 1. The data array requires a 0 as a placeholder to facilitate the reHeap() function.\n",
    "Our example above can be visualized as:\n",
    "\n",
    "            4\n",
    "        5       9\n",
    "    13\n"
   ]
  },
  {
   "cell_type": "markdown",
   "execution_count": null,
   "metadata": {},
   "outputs": [],
   "source": [
    "Now if we want to turn this tree into a priority queue we need to preserve our \"heapiness\" as items exit from the top. This is accomplished with a reHeapDown() function, that takes the bottom-most item, puts it in the root position and uses similar logic to reHeapUp() but moves it down instead. This resettles the heap."
   ]
  },
  {
   "cell_type": "code",
   "execution_count": null,
   "metadata": {},
   "outputs": [],
   "source": [
    "    def reHeapDown(self,i): #this will almost always be called when i=1 or for the item at the top of the heap\n",
    "        while(i*2)<=self.size: \n",
    "            minVal=self.minVal(i) #find the smallest child of the root\n",
    "            if self.data[i] > self.data[minVal]: #if the root is greater than the child, swap them\n",
    "                temp = self.data[i]\n",
    "                self.data[i]=self.data[minVal]\n",
    "                self.data[minVal]= temp\n",
    "            i=minVal #repeat for the new \"root\"\n",
    "\n",
    "    def minVal(self,i):\n",
    "        if i*2+1 > self.size: #if there is only a left node, return that node's position #\n",
    "            return i*2\n",
    "        else:\n",
    "            if self.data[i*2] < self.data[i*2+1]: #else return the position # of the smaller item\n",
    "                return i*2\n",
    "            else:\n",
    "                return i*2+1"
   ]
  },
  {
   "cell_type": "markdown",
   "execution_count": null,
   "metadata": {},
   "outputs": [],
   "source": [
    "Suppose we dequeue \"4\" from the earlier example, we are left with:\n",
    "\n",
    "            None\n",
    "        5         9\n",
    "\n",
    "    13\n",
    "\n",
    "However, built into our function we bring up the bottom value:\n",
    "\n",
    "        13\n",
    "    5       9\n",
    "\n",
    "And reHeapDown():\n",
    "\n",
    "        5\n",
    "    13      9\n"
   ]
  },
  {
   "cell_type": "code",
   "execution_count": 17,
   "metadata": {},
   "outputs": [
    {
     "ename": "AttributeError",
     "evalue": "'BinaryHeap' object has no attribute 'dequeueMin'",
     "output_type": "error",
     "traceback": [
      "\u001b[1;31m---------------------------------------------------------------------------\u001b[0m",
      "\u001b[1;31mAttributeError\u001b[0m                            Traceback (most recent call last)",
      "\u001b[1;32m<ipython-input-17-d57963bf4e76>\u001b[0m in \u001b[0;36m<module>\u001b[1;34m\u001b[0m\n\u001b[1;32m----> 1\u001b[1;33m \u001b[0mexample\u001b[0m\u001b[1;33m.\u001b[0m\u001b[0mdequeueMin\u001b[0m\u001b[1;33m(\u001b[0m\u001b[1;33m)\u001b[0m\u001b[1;33m\u001b[0m\u001b[1;33m\u001b[0m\u001b[0m\n\u001b[0m\u001b[0;32m      2\u001b[0m \u001b[0mprint\u001b[0m\u001b[1;33m(\u001b[0m\u001b[0mexample\u001b[0m\u001b[1;33m.\u001b[0m\u001b[0mdata\u001b[0m\u001b[1;33m)\u001b[0m\u001b[1;33m\u001b[0m\u001b[1;33m\u001b[0m\u001b[0m\n",
      "\u001b[1;31mAttributeError\u001b[0m: 'BinaryHeap' object has no attribute 'dequeueMin'"
     ]
    }
   ],
   "source": [
    "\n",
    "example.dequeueMin()\n",
    "print(example.data)"
   ]
  },
  {
   "cell_type": "code",
   "execution_count": null,
   "metadata": {},
   "outputs": [],
   "source": []
  }
 ]
}